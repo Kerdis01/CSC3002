{
 "cells": [
  {
   "cell_type": "code",
   "execution_count": 1,
   "metadata": {},
   "outputs": [],
   "source": [
    "import cv2\n",
    "import numpy as np\n",
    "import tensorflow as tf"
   ]
  },
  {
   "cell_type": "code",
   "execution_count": 13,
   "metadata": {},
   "outputs": [
    {
     "name": "stdout",
     "output_type": "stream",
     "text": [
      "tf.Tensor(1932.4979, shape=(), dtype=float32)\n"
     ]
    },
    {
     "name": "stderr",
     "output_type": "stream",
     "text": [
      "2024-03-22 15:11:06.964399: I tensorflow/core/platform/cpu_feature_guard.cc:142] This TensorFlow binary is optimized with oneAPI Deep Neural Network Library (oneDNN)to use the following CPU instructions in performance-critical operations:  SSE4.1 SSE4.2\n",
      "To enable them in other operations, rebuild TensorFlow with the appropriate compiler flags.\n",
      "2024-03-22 15:11:06.967294: I tensorflow/core/platform/profile_utils/cpu_utils.cc:104] CPU Frequency: 3393620000 Hz\n",
      "2024-03-22 15:11:06.967420: I tensorflow/compiler/xla/service/service.cc:168] XLA service 0x1536850 initialized for platform Host (this does not guarantee that XLA will be used). Devices:\n",
      "2024-03-22 15:11:06.967427: I tensorflow/compiler/xla/service/service.cc:176]   StreamExecutor device (0): Host, Default Version\n"
     ]
    }
   ],
   "source": [
    "print(tf.reduce_sum(tf.random.normal([1000, 1000])))"
   ]
  },
  {
   "cell_type": "code",
   "execution_count": 19,
   "metadata": {},
   "outputs": [
    {
     "ename": "AttributeError",
     "evalue": "'CameraObjectDetector' object has no attribute 'run'",
     "output_type": "error",
     "traceback": [
      "\u001b[0;31m---------------------------------------------------------------------------\u001b[0m",
      "\u001b[0;31mAttributeError\u001b[0m                            Traceback (most recent call last)",
      "Cell \u001b[0;32mIn[19], line 10\u001b[0m\n\u001b[1;32m      7\u001b[0m         _, \u001b[38;5;28mself\u001b[39m\u001b[38;5;241m.\u001b[39minput_height, \u001b[38;5;28mself\u001b[39m\u001b[38;5;241m.\u001b[39minput_width, _ \u001b[38;5;241m=\u001b[39m \u001b[38;5;28mself\u001b[39m\u001b[38;5;241m.\u001b[39minput_details[\u001b[38;5;241m0\u001b[39m][\u001b[38;5;124m'\u001b[39m\u001b[38;5;124mshape\u001b[39m\u001b[38;5;124m'\u001b[39m]\n\u001b[1;32m      9\u001b[0m detector \u001b[38;5;241m=\u001b[39m CameraObjectDetector(\u001b[38;5;124m'\u001b[39m\u001b[38;5;124mmodels/efficientNetLite2.tflite\u001b[39m\u001b[38;5;124m'\u001b[39m)\n\u001b[0;32m---> 10\u001b[0m \u001b[43mdetector\u001b[49m\u001b[38;5;241;43m.\u001b[39;49m\u001b[43mrun\u001b[49m()\n",
      "\u001b[0;31mAttributeError\u001b[0m: 'CameraObjectDetector' object has no attribute 'run'"
     ]
    }
   ],
   "source": [
    "class CameraObjectDetector:\n",
    "    def __init__(self, model_path):\n",
    "        self.interpreter = tf.lite.Interpreter(model_path=model_path)\n",
    "        self.interpreter.allocate_tensors()\n",
    "        self.input_details = self.interpreter.get_input_details()\n",
    "        self.output_details = self.interpreter.get_output_details()\n",
    "        _, self.input_height, self.input_width, _ = self.input_details[0]['shape']\n",
    "\n",
    "detector = CameraObjectDetector('models/efficientNetLite2.tflite')\n"
   ]
  },
  {
   "cell_type": "code",
   "execution_count": 5,
   "metadata": {},
   "outputs": [],
   "source": [
    "def preprocess(self, frame):\n",
    "        frame_resized = cv2.resize(frame, (self.input_width, self.input_height))\n",
    "        input_data = np.expand_dims(frame_resized, axis=0).astype(np.float32)\n",
    "        input_mean, input_std = 127.5, 127.5\n",
    "        input_data = (input_data - input_mean) / input_std\n",
    "        return input_data"
   ]
  },
  {
   "cell_type": "code",
   "execution_count": 6,
   "metadata": {},
   "outputs": [],
   "source": [
    "def postprocess(self, frame, boxes, classes, scores, count):\n",
    "        for i in range(count):\n",
    "            if scores[i] > 0.5:  # Only consider detections with a confidence > 50%\n",
    "                ymin, xmin, ymax, xmax = boxes[i]\n",
    "                xmin = int(xmin * self.input_width)\n",
    "                xmax = int(xmax * self.input_width)\n",
    "                ymin = int(ymin * self.input_height)\n",
    "                ymax = int(ymax * self.input_height)\n",
    "\n",
    "                # Draw the bounding box and label on the frame\n",
    "                cv2.rectangle(frame, (xmin, ymin), (xmax, ymax), (0, 255, 0), 2)\n",
    "                label = f\"{classes[i]}: {int(scores[i]*100)}%\"\n",
    "                cv2.putText(frame, label, (xmin, ymax), cv2.FONT_HERSHEY_COMPLEX, 0.5, (255, 255, 255), 1)\n",
    "        return frame"
   ]
  },
  {
   "cell_type": "code",
   "execution_count": 7,
   "metadata": {},
   "outputs": [],
   "source": [
    "def detect_objects(self, image):\n",
    "        self.interpreter.set_tensor(self.input_details[0]['index'], image)\n",
    "        self.interpreter.invoke()\n",
    "        boxes = self.interpreter.get_tensor(self.output_details[0]['index'])[0]\n",
    "        classes = self.interpreter.get_tensor(self.output_details[1]['index'])[0]\n",
    "        scores = self.interpreter.get_tensor(self.output_details[2]['index'])[0]\n",
    "        count = self.interpreter.get_tensor(self.output_details[3]['index'])[0]\n",
    "        return boxes, classes, scores, count\n"
   ]
  },
  {
   "cell_type": "code",
   "execution_count": 8,
   "metadata": {},
   "outputs": [],
   "source": [
    "def run(self):\n",
    "        cap = cv2.VideoCapture(0)\n",
    "        if not cap.isOpened():\n",
    "            print(\"Cannot open camera\")\n",
    "            exit()\n",
    "        print(\"Camera opened successfully.\")\n",
    "        frame_count = 0  # Counter for the number of frames processed\n",
    "        while True:\n",
    "            ret, frame = cap.read()\n",
    "            if not ret:\n",
    "                print(\"Can't receive frame (stream end?). Exiting ...\")\n",
    "                break\n",
    "        \n",
    "            # Process frame for object detection.\n",
    "            input_data = self.preprocess(frame)\n",
    "            boxes, classes, scores, count = self.detect_objects(input_data)\n",
    "            frame = self.postprocess(frame, boxes, classes, scores, count)\n",
    "\n",
    "            # Increment and print the frame count every 100 frames.\n",
    "            frame_count += 1\n",
    "            if frame_count % 100 == 0:\n",
    "                print(f\"Processed {frame_count} frames\")\n",
    "\n",
    "            # Display the resulting frame with bounding boxes\n",
    "            cv2.imshow('Object Detection', frame)\n",
    "\n",
    "            # Break the loop if 'q' is pressed\n",
    "            if cv2.waitKey(1) == ord('q'):\n",
    "                print(\"Quitting the application...\")\n",
    "            break\n",
    "\n",
    "        cap.release()\n",
    "        cv2.destroyAllWindows()\n",
    "        print(\"Camera feed has been released and windows are closed.\")\n",
    "    \n",
    "    detector.run()"
   ]
  }
 ],
 "metadata": {
  "kernelspec": {
   "display_name": "tflite_env",
   "language": "python",
   "name": "python3"
  },
  "language_info": {
   "codemirror_mode": {
    "name": "ipython",
    "version": 3
   },
   "file_extension": ".py",
   "mimetype": "text/x-python",
   "name": "python",
   "nbconvert_exporter": "python",
   "pygments_lexer": "ipython3",
   "version": "3.8.19"
  }
 },
 "nbformat": 4,
 "nbformat_minor": 2
}
